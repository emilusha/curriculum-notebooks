{
  "cells": [
    {
      "cell_type": "markdown",
      "metadata": {
        "id": "4cCsSXjluqZR"
      },
      "source": [
        "![Callysto.ca Banner](https://github.com/callysto/curriculum-notebooks/blob/master/callysto-notebook-banner-top.jpg?raw=true)\n",
        "\n",
        "<a href=\"https://hub.callysto.ca/jupyter/hub/user-redirect/git-pull?repo=https%3A%2F%2Fgithub.com%2Fcallysto%2Fcurriculum-notebooks&branch=master&subPath=TechnologyStudies/ComputingScience/Courses/files-&-file-structures-1.ipynb&depth=1\"><img src=\"https://raw.githubusercontent.com/callysto/curriculum-notebooks/master/open-in-callysto-button.svg?sanitize=true\" width=\"123\" height=\"24\" alt=\"Open in Callysto\"/></a>"
      ]
    },
    {
      "cell_type": "markdown",
      "metadata": {
        "id": "ftRYBkjzuqbT"
      },
      "source": [
        "# CSE2130: Files and File Structures 1\n",
        "\n",
        "*[Alberta Education Learning Outcomes-Business, Administration, Finance & Information Technology (BIT)](https://education.alberta.ca/media/159479/cse_pos.pdf)*\n",
        "\n",
        "*Computer Science-Page 27*\n",
        "\n",
        "*Prerequisite: [CSE2120: Data Structures 1](data-structures-1.ipynb)*\n",
        "\n",
        "***\n",
        "\n",
        "\n",
        "Students learn how to design, code and debug programs that use data files to store and retrieve data on secondary storage devices. Building on their knowledge of derived data structures, they learn how to use those structures to organize data for efficient file handling. As part of this process, they learn what types of problems benefit from the use of external files."
      ]
    },
    {
      "cell_type": "markdown",
      "metadata": {
        "id": "78mxrCcQuqbj"
      },
      "source": [
        "## Theory Questions\n",
        "\n",
        "1. Identify what each of the following file types is for, and whether it is text or binary format.\n",
        "    1. .txt\n",
        "    2. .gif\n",
        "    3. .png\n",
        "    4. .csv\n",
        "    5. .doc\n",
        "    6. .ipynb\n",
        "    7. .jpg\n",
        "    8. .key\n",
        "    9. .mp3\n",
        "    10. .mov\n",
        "    11. .svg\n",
        "    12. .stl\n",
        "\n",
        "5. describe and represent the relative advantages of text versus binary files including:\n",
        "    * access speed\n",
        "    * storage space requirement\n",
        "    * difficulty to implement\n",
        "    * maintainability\n",
        "\n",
        "2. When accessing online files, what are the differences amoung sequential, random, and indexed methods?\n",
        "\n",
        "3. Explain and represent the client/server relationship that exists between a file using application and the operating system with consideration to:\n",
        "    * how programming environments access secondary storage devices\n",
        "    * how operating systems handle the actual process of manipulating data in secondary memory\n",
        "    * how programming environments request file handling services from the operating system\n",
        "    * the use of a file buffer, data stream and file descriptor table\n",
        "\n",
        "4. Describe the main operations associated with text files including:\n",
        "    * creating a file buffer or stream\n",
        "    * opening an existing file\n",
        "    * creating a new file\n",
        "    * exporting data to a file\n",
        "    * importing data from a file\n",
        "    * appending data to a file\n",
        "    * closing a file\n",
        "    * comparing two files\n",
        "    * copying a file\n",
        "    * merging two files\n",
        "\n",
        "2. identify possible life roles related to the skills and content of this cluster\n",
        "    * recognize and then analyze the opportunities and barriers in the immediate environment\n",
        "    * identify potential resources to minimize barriers and maximize opportunities"
      ]
    },
    {
      "cell_type": "markdown",
      "metadata": {
        "id": "I8EjeE3euqbl"
      },
      "source": [
        "## Project 1 - Text Classification\n",
        "\n",
        "We are going to use [MediaPipe](https://developers.google.com/mediapipe) to classify text according to positivity and negativity."
      ]
    },
    {
      "cell_type": "code",
      "execution_count": 1,
      "metadata": {
        "colab": {
          "base_uri": "https://localhost:8080/"
        },
        "id": "GSVxi091uqeJ",
        "outputId": "55411333-5d7b-4ea1-d6dd-eb6f663b5608"
      },
      "outputs": [
        {
          "output_type": "stream",
          "name": "stdout",
          "text": [
            "\u001b[2K   \u001b[90m━━━━━━━━━━━━━━━━━━━━━━━━━━━━━━━━━━━━━━━━\u001b[0m \u001b[32m35.6/35.6 MB\u001b[0m \u001b[31m9.5 MB/s\u001b[0m eta \u001b[36m0:00:00\u001b[0m\n",
            "\u001b[?25hClassifier created\n"
          ]
        }
      ],
      "source": [
        "!pip install -q mediapipe==0.10.20\n",
        "!wget -O classifier.tflite -q https://storage.googleapis.com/mediapipe-models/text_classifier/bert_classifier/float32/1/bert_classifier.tflite\n",
        "\n",
        "from mediapipe.tasks import python\n",
        "from mediapipe.tasks.python import text\n",
        "options = text.TextClassifierOptions(base_options = python.BaseOptions(model_asset_path='classifier.tflite'))\n",
        "classifier = text.TextClassifier.create_from_options(options)\n",
        "print('Classifier created')"
      ]
    },
    {
      "cell_type": "markdown",
      "metadata": {
        "id": "5Hs77D_euqeM"
      },
      "source": [
        "Now that the MediaPipe text classifier is set up, we can classify a block of text."
      ]
    },
    {
      "cell_type": "code",
      "execution_count": 2,
      "metadata": {
        "colab": {
          "base_uri": "https://localhost:8080/",
          "height": 52
        },
        "id": "isDro50TuqeN",
        "outputId": "f51d179f-efc7-4cc6-e76e-356e66cd8a58"
      },
      "outputs": [
        {
          "output_type": "display_data",
          "data": {
            "text/plain": [
              "[Category(index=1, score=0.870464026927948, display_name='', category_name='positive'),\n",
              " Category(index=0, score=0.12953591346740723, display_name='', category_name='negative')]"
            ]
          },
          "metadata": {}
        }
      ],
      "source": [
        "text = '''\n",
        "Shall I compare thee to a summer's day?\n",
        "Thou art more lovely and more temperate:\n",
        "Rough winds do shake the darling buds of May,\n",
        "And summer's lease hath all too short a date;\n",
        "Sometime too hot the eye of heaven shines,\n",
        "And often is his gold complexion dimm'd;\n",
        "And every fair from fair sometime declines,\n",
        "By chance or nature's changing course untrimm'd;\n",
        "But thy eternal summer shall not fade,\n",
        "Nor lose possession of that fair thou ow'st;\n",
        "Nor shall death brag thou wander'st in his shade,\n",
        "When in eternal lines to time thou grow'st:\n",
        "So long as men can breathe or eyes can see,\n",
        "So long lives this, and this gives life to thee.\n",
        "'''\n",
        "\n",
        "result = classifier.classify(text)\n",
        "display(result.classifications[0].categories)"
      ]
    },
    {
      "cell_type": "markdown",
      "metadata": {
        "id": "JKu2r4-5uqeP"
      },
      "source": [
        "The text classifier obtained using **MediaPipe** is designed to classify text into predefined categories. In this case, these categories are \"positive\" and \"negative\".\n",
        "\n",
        "As you can see, the classifier gives the approximate score of 0.865 and 0.135 to the categories *positive* and *negative* respectively. This suggests that the classifier has a higher confidence that the text is classified as positive, rather than negative."
      ]
    },
    {
      "cell_type": "markdown",
      "metadata": {
        "id": "fWF8ZBHVuqeP"
      },
      "source": [
        "Now that we've seen how it can classify text, let's try a whole novel downloaded as a text file from [Project Gutenberg](https://www.gutenberg.org)."
      ]
    },
    {
      "cell_type": "code",
      "execution_count": 3,
      "metadata": {
        "colab": {
          "base_uri": "https://localhost:8080/",
          "height": 69
        },
        "id": "lJQSjB_quqeQ",
        "outputId": "54c4758d-97d6-4d88-8ce7-4662f893af18"
      },
      "outputs": [
        {
          "output_type": "stream",
          "name": "stdout",
          "text": [
            "﻿The Project Gutenberg eBook of The Great Gatsby\r\n"
          ]
        },
        {
          "output_type": "display_data",
          "data": {
            "text/plain": [
              "[Category(index=1, score=0.6636134386062622, display_name='', category_name='positive'),\n",
              " Category(index=0, score=0.3363865613937378, display_name='', category_name='negative')]"
            ]
          },
          "metadata": {}
        }
      ],
      "source": [
        "book_url = 'https://www.gutenberg.org/cache/epub/64317/pg64317.txt'\n",
        "import requests\n",
        "r = requests.get(book_url) # get the text from the url\n",
        "r.encoding = 'utf-8' # specify the type of text encoding in the file\n",
        "title = r.text.split('\\n')[0]\n",
        "text = r.text.split('***')[2] # get the part after the header\n",
        "print(title)\n",
        "\n",
        "result = classifier.classify(text)\n",
        "display(result.classifications[0].categories)"
      ]
    },
    {
      "cell_type": "markdown",
      "metadata": {
        "id": "MttCAblVuqeR"
      },
      "source": [
        "To make it a little easier to use, let's create a function that returns a dictionary result."
      ]
    },
    {
      "cell_type": "code",
      "execution_count": 4,
      "metadata": {
        "colab": {
          "base_uri": "https://localhost:8080/"
        },
        "id": "tmDwqzFMuqeS",
        "outputId": "da231a7e-4143-4b88-8bb2-b5f92a671768"
      },
      "outputs": [
        {
          "output_type": "execute_result",
          "data": {
            "text/plain": [
              "{'positive': 0.6636134386062622, 'negative': 0.3363865613937378}"
            ]
          },
          "metadata": {},
          "execution_count": 4
        }
      ],
      "source": [
        "def classify_text(text):\n",
        "    result = classifier.classify(text)\n",
        "    rd = {}\n",
        "    rd[result.classifications[0].categories[0].category_name] = result.classifications[0].categories[0].score\n",
        "    rd[result.classifications[0].categories[1].category_name] = result.classifications[0].categories[1].score\n",
        "    return rd\n",
        "\n",
        "classify_text(text)"
      ]
    },
    {
      "cell_type": "markdown",
      "metadata": {
        "id": "c-RM_PFluqeT"
      },
      "source": [
        "Next find another book from [Project Gutenberg](https://www.gutenberg.org), copy the link to the `Plain Text UTF-8` file and paste that link into the `book_url = ` variable in the code cell below."
      ]
    },
    {
      "cell_type": "code",
      "execution_count": 5,
      "metadata": {
        "colab": {
          "base_uri": "https://localhost:8080/",
          "height": 69
        },
        "id": "Dg60pfuwuqeT",
        "outputId": "b4fe2fa0-a1c4-45f2-fb5f-db681c5ee9a9"
      },
      "outputs": [
        {
          "output_type": "stream",
          "name": "stdout",
          "text": [
            "﻿The Project Gutenberg eBook of Little Women; Or, Meg, Jo, Beth, and Amy\r\n"
          ]
        },
        {
          "output_type": "display_data",
          "data": {
            "text/plain": [
              "[Category(index=0, score=0.678820013999939, display_name='', category_name='negative'),\n",
              " Category(index=1, score=0.32117998600006104, display_name='', category_name='positive')]"
            ]
          },
          "metadata": {}
        }
      ],
      "source": [
        "book_url = 'https://www.gutenberg.org/cache/epub/37106/pg37106.txt'\n",
        "try:\n",
        "    r = requests.get(book_url)\n",
        "    r.encoding = 'utf-8'\n",
        "    title = r.text.split('\\n')[0]\n",
        "    text = r.text.split('***')[2]\n",
        "    print(title)\n",
        "\n",
        "    result = classifier.classify(text)\n",
        "    display(result.classifications[0].categories)\n",
        "except:\n",
        "    print(\"Invalid Book Url, please try again\")"
      ]
    },
    {
      "cell_type": "markdown",
      "metadata": {
        "id": "w9j-3_fquqeU"
      },
      "source": [
        "1. How does your chosen book compare to \"The Great Gatsby\" in terms of positivity and negativity?\n",
        "\n",
        "Little Women is a story about four sisters and family, and navigating through the period between childhood and womanhood.\n",
        "The Great Gatsby, on the other hand, is a tradgedy. It is the story of a wealthy man and his love for a wealthy young woman.\n",
        "\n",
        "I would definetely say that Little Women is more positive than the Great Gatsby. The Great Gatsby centers around a deeper theme involving the illusion of the American dream, and the relentless pursuit of an unattainable goal - which to me, at least, is more or less tragic.\n",
        "In Little Women problems do occur but they have their family to support them.\n",
        "\n",
        "In the Great Gatsby ends in the protagonist being abandoned by the one he loves most and shot.\n",
        "Therefore, I strongly believe that Little Women is a more positive book, while the Great Gatsby is the latter."
      ]
    },
    {
      "cell_type": "markdown",
      "metadata": {
        "id": "6qsEfNwjuqeU"
      },
      "source": [
        "1. My chosen book,\n",
        " Is a story that I've read in the past. I actually own the novel.\n",
        "\n",
        " The main message of this book is a woman's struggle between familial duality and personal growth."
      ]
    },
    {
      "cell_type": "markdown",
      "metadata": {
        "id": "JLUeJAPeuqeV"
      },
      "source": [
        "### Sentiment Analysis Data Science\n",
        "\n",
        "Using the following code cell as an *example*, divide **your chosen book** into chapters and create a visualization of the positivity and negativity by chapter.\n",
        "\n",
        "Remember that you need to paste in the link to the `Plain Text UTF-8` file."
      ]
    },
    {
      "cell_type": "code",
      "execution_count": 6,
      "metadata": {
        "colab": {
          "base_uri": "https://localhost:8080/",
          "height": 542
        },
        "id": "DZnMULmyuqeV",
        "outputId": "43cb72ae-c97a-417e-a347-494c3cc6e299"
      },
      "outputs": [
        {
          "output_type": "display_data",
          "data": {
            "text/html": [
              "<html>\n",
              "<head><meta charset=\"utf-8\" /></head>\n",
              "<body>\n",
              "    <div>            <script src=\"https://cdnjs.cloudflare.com/ajax/libs/mathjax/2.7.5/MathJax.js?config=TeX-AMS-MML_SVG\"></script><script type=\"text/javascript\">if (window.MathJax && window.MathJax.Hub && window.MathJax.Hub.Config) {window.MathJax.Hub.Config({SVG: {font: \"STIX-Web\"}});}</script>                <script type=\"text/javascript\">window.PlotlyConfig = {MathJaxConfig: 'local'};</script>\n",
              "        <script charset=\"utf-8\" src=\"https://cdn.plot.ly/plotly-2.35.2.min.js\"></script>                <div id=\"7fdd0d8a-d2b3-47b1-a0ac-441310e42945\" class=\"plotly-graph-div\" style=\"height:525px; width:100%;\"></div>            <script type=\"text/javascript\">                                    window.PLOTLYENV=window.PLOTLYENV || {};                                    if (document.getElementById(\"7fdd0d8a-d2b3-47b1-a0ac-441310e42945\")) {                    Plotly.newPlot(                        \"7fdd0d8a-d2b3-47b1-a0ac-441310e42945\",                        [{\"alignmentgroup\":\"True\",\"hovertemplate\":\"variable=Positive\\u003cbr\\u003eindex=%{x}\\u003cbr\\u003evalue=%{y}\\u003cextra\\u003e\\u003c\\u002fextra\\u003e\",\"legendgroup\":\"Positive\",\"marker\":{\"color\":\"#636efa\",\"pattern\":{\"shape\":\"\"}},\"name\":\"Positive\",\"offsetgroup\":\"Positive\",\"orientation\":\"v\",\"showlegend\":true,\"textposition\":\"auto\",\"x\":[12,14,15,17,19,21,23,25,27,29,31,33,35,37,38,39,40],\"xaxis\":\"x\",\"y\":[0.8462576270103455,0.9885278940200806,0.8657202124595642,0.4790046811103821,0.46043068170547485,0.6339679956436157,0.8361759781837463,0.7339290380477905,0.8625407218933105,0.05905139073729515,0.8863343596458435,0.37795910239219666,0.9447508454322815,0.6461168527603149,0.9739305377006531,0.9674915075302124,0.12026343494653702],\"yaxis\":\"y\",\"type\":\"bar\"},{\"alignmentgroup\":\"True\",\"hovertemplate\":\"variable=Negative\\u003cbr\\u003eindex=%{x}\\u003cbr\\u003evalue=%{y}\\u003cextra\\u003e\\u003c\\u002fextra\\u003e\",\"legendgroup\":\"Negative\",\"marker\":{\"color\":\"#EF553B\",\"pattern\":{\"shape\":\"\"}},\"name\":\"Negative\",\"offsetgroup\":\"Negative\",\"orientation\":\"v\",\"showlegend\":true,\"textposition\":\"auto\",\"x\":[12,14,15,17,19,21,23,25,27,29,31,33,35,37,38,39,40],\"xaxis\":\"x\",\"y\":[0.15374237298965454,0.011472112499177456,0.1342797875404358,0.5209953188896179,0.5395692586898804,0.3660320043563843,0.16382400691509247,0.2660709619522095,0.13745924830436707,0.9409486651420593,0.11366559565067291,0.622040867805481,0.05524913966655731,0.35388314723968506,0.02606944553554058,0.03250844031572342,0.8797365427017212],\"yaxis\":\"y\",\"type\":\"bar\"}],                        {\"template\":{\"data\":{\"histogram2dcontour\":[{\"type\":\"histogram2dcontour\",\"colorbar\":{\"outlinewidth\":0,\"ticks\":\"\"},\"colorscale\":[[0.0,\"#0d0887\"],[0.1111111111111111,\"#46039f\"],[0.2222222222222222,\"#7201a8\"],[0.3333333333333333,\"#9c179e\"],[0.4444444444444444,\"#bd3786\"],[0.5555555555555556,\"#d8576b\"],[0.6666666666666666,\"#ed7953\"],[0.7777777777777778,\"#fb9f3a\"],[0.8888888888888888,\"#fdca26\"],[1.0,\"#f0f921\"]]}],\"choropleth\":[{\"type\":\"choropleth\",\"colorbar\":{\"outlinewidth\":0,\"ticks\":\"\"}}],\"histogram2d\":[{\"type\":\"histogram2d\",\"colorbar\":{\"outlinewidth\":0,\"ticks\":\"\"},\"colorscale\":[[0.0,\"#0d0887\"],[0.1111111111111111,\"#46039f\"],[0.2222222222222222,\"#7201a8\"],[0.3333333333333333,\"#9c179e\"],[0.4444444444444444,\"#bd3786\"],[0.5555555555555556,\"#d8576b\"],[0.6666666666666666,\"#ed7953\"],[0.7777777777777778,\"#fb9f3a\"],[0.8888888888888888,\"#fdca26\"],[1.0,\"#f0f921\"]]}],\"heatmap\":[{\"type\":\"heatmap\",\"colorbar\":{\"outlinewidth\":0,\"ticks\":\"\"},\"colorscale\":[[0.0,\"#0d0887\"],[0.1111111111111111,\"#46039f\"],[0.2222222222222222,\"#7201a8\"],[0.3333333333333333,\"#9c179e\"],[0.4444444444444444,\"#bd3786\"],[0.5555555555555556,\"#d8576b\"],[0.6666666666666666,\"#ed7953\"],[0.7777777777777778,\"#fb9f3a\"],[0.8888888888888888,\"#fdca26\"],[1.0,\"#f0f921\"]]}],\"heatmapgl\":[{\"type\":\"heatmapgl\",\"colorbar\":{\"outlinewidth\":0,\"ticks\":\"\"},\"colorscale\":[[0.0,\"#0d0887\"],[0.1111111111111111,\"#46039f\"],[0.2222222222222222,\"#7201a8\"],[0.3333333333333333,\"#9c179e\"],[0.4444444444444444,\"#bd3786\"],[0.5555555555555556,\"#d8576b\"],[0.6666666666666666,\"#ed7953\"],[0.7777777777777778,\"#fb9f3a\"],[0.8888888888888888,\"#fdca26\"],[1.0,\"#f0f921\"]]}],\"contourcarpet\":[{\"type\":\"contourcarpet\",\"colorbar\":{\"outlinewidth\":0,\"ticks\":\"\"}}],\"contour\":[{\"type\":\"contour\",\"colorbar\":{\"outlinewidth\":0,\"ticks\":\"\"},\"colorscale\":[[0.0,\"#0d0887\"],[0.1111111111111111,\"#46039f\"],[0.2222222222222222,\"#7201a8\"],[0.3333333333333333,\"#9c179e\"],[0.4444444444444444,\"#bd3786\"],[0.5555555555555556,\"#d8576b\"],[0.6666666666666666,\"#ed7953\"],[0.7777777777777778,\"#fb9f3a\"],[0.8888888888888888,\"#fdca26\"],[1.0,\"#f0f921\"]]}],\"surface\":[{\"type\":\"surface\",\"colorbar\":{\"outlinewidth\":0,\"ticks\":\"\"},\"colorscale\":[[0.0,\"#0d0887\"],[0.1111111111111111,\"#46039f\"],[0.2222222222222222,\"#7201a8\"],[0.3333333333333333,\"#9c179e\"],[0.4444444444444444,\"#bd3786\"],[0.5555555555555556,\"#d8576b\"],[0.6666666666666666,\"#ed7953\"],[0.7777777777777778,\"#fb9f3a\"],[0.8888888888888888,\"#fdca26\"],[1.0,\"#f0f921\"]]}],\"mesh3d\":[{\"type\":\"mesh3d\",\"colorbar\":{\"outlinewidth\":0,\"ticks\":\"\"}}],\"scatter\":[{\"fillpattern\":{\"fillmode\":\"overlay\",\"size\":10,\"solidity\":0.2},\"type\":\"scatter\"}],\"parcoords\":[{\"type\":\"parcoords\",\"line\":{\"colorbar\":{\"outlinewidth\":0,\"ticks\":\"\"}}}],\"scatterpolargl\":[{\"type\":\"scatterpolargl\",\"marker\":{\"colorbar\":{\"outlinewidth\":0,\"ticks\":\"\"}}}],\"bar\":[{\"error_x\":{\"color\":\"#2a3f5f\"},\"error_y\":{\"color\":\"#2a3f5f\"},\"marker\":{\"line\":{\"color\":\"#E5ECF6\",\"width\":0.5},\"pattern\":{\"fillmode\":\"overlay\",\"size\":10,\"solidity\":0.2}},\"type\":\"bar\"}],\"scattergeo\":[{\"type\":\"scattergeo\",\"marker\":{\"colorbar\":{\"outlinewidth\":0,\"ticks\":\"\"}}}],\"scatterpolar\":[{\"type\":\"scatterpolar\",\"marker\":{\"colorbar\":{\"outlinewidth\":0,\"ticks\":\"\"}}}],\"histogram\":[{\"marker\":{\"pattern\":{\"fillmode\":\"overlay\",\"size\":10,\"solidity\":0.2}},\"type\":\"histogram\"}],\"scattergl\":[{\"type\":\"scattergl\",\"marker\":{\"colorbar\":{\"outlinewidth\":0,\"ticks\":\"\"}}}],\"scatter3d\":[{\"type\":\"scatter3d\",\"line\":{\"colorbar\":{\"outlinewidth\":0,\"ticks\":\"\"}},\"marker\":{\"colorbar\":{\"outlinewidth\":0,\"ticks\":\"\"}}}],\"scattermapbox\":[{\"type\":\"scattermapbox\",\"marker\":{\"colorbar\":{\"outlinewidth\":0,\"ticks\":\"\"}}}],\"scatterternary\":[{\"type\":\"scatterternary\",\"marker\":{\"colorbar\":{\"outlinewidth\":0,\"ticks\":\"\"}}}],\"scattercarpet\":[{\"type\":\"scattercarpet\",\"marker\":{\"colorbar\":{\"outlinewidth\":0,\"ticks\":\"\"}}}],\"carpet\":[{\"aaxis\":{\"endlinecolor\":\"#2a3f5f\",\"gridcolor\":\"white\",\"linecolor\":\"white\",\"minorgridcolor\":\"white\",\"startlinecolor\":\"#2a3f5f\"},\"baxis\":{\"endlinecolor\":\"#2a3f5f\",\"gridcolor\":\"white\",\"linecolor\":\"white\",\"minorgridcolor\":\"white\",\"startlinecolor\":\"#2a3f5f\"},\"type\":\"carpet\"}],\"table\":[{\"cells\":{\"fill\":{\"color\":\"#EBF0F8\"},\"line\":{\"color\":\"white\"}},\"header\":{\"fill\":{\"color\":\"#C8D4E3\"},\"line\":{\"color\":\"white\"}},\"type\":\"table\"}],\"barpolar\":[{\"marker\":{\"line\":{\"color\":\"#E5ECF6\",\"width\":0.5},\"pattern\":{\"fillmode\":\"overlay\",\"size\":10,\"solidity\":0.2}},\"type\":\"barpolar\"}],\"pie\":[{\"automargin\":true,\"type\":\"pie\"}]},\"layout\":{\"autotypenumbers\":\"strict\",\"colorway\":[\"#636efa\",\"#EF553B\",\"#00cc96\",\"#ab63fa\",\"#FFA15A\",\"#19d3f3\",\"#FF6692\",\"#B6E880\",\"#FF97FF\",\"#FECB52\"],\"font\":{\"color\":\"#2a3f5f\"},\"hovermode\":\"closest\",\"hoverlabel\":{\"align\":\"left\"},\"paper_bgcolor\":\"white\",\"plot_bgcolor\":\"#E5ECF6\",\"polar\":{\"bgcolor\":\"#E5ECF6\",\"angularaxis\":{\"gridcolor\":\"white\",\"linecolor\":\"white\",\"ticks\":\"\"},\"radialaxis\":{\"gridcolor\":\"white\",\"linecolor\":\"white\",\"ticks\":\"\"}},\"ternary\":{\"bgcolor\":\"#E5ECF6\",\"aaxis\":{\"gridcolor\":\"white\",\"linecolor\":\"white\",\"ticks\":\"\"},\"baxis\":{\"gridcolor\":\"white\",\"linecolor\":\"white\",\"ticks\":\"\"},\"caxis\":{\"gridcolor\":\"white\",\"linecolor\":\"white\",\"ticks\":\"\"}},\"coloraxis\":{\"colorbar\":{\"outlinewidth\":0,\"ticks\":\"\"}},\"colorscale\":{\"sequential\":[[0.0,\"#0d0887\"],[0.1111111111111111,\"#46039f\"],[0.2222222222222222,\"#7201a8\"],[0.3333333333333333,\"#9c179e\"],[0.4444444444444444,\"#bd3786\"],[0.5555555555555556,\"#d8576b\"],[0.6666666666666666,\"#ed7953\"],[0.7777777777777778,\"#fb9f3a\"],[0.8888888888888888,\"#fdca26\"],[1.0,\"#f0f921\"]],\"sequentialminus\":[[0.0,\"#0d0887\"],[0.1111111111111111,\"#46039f\"],[0.2222222222222222,\"#7201a8\"],[0.3333333333333333,\"#9c179e\"],[0.4444444444444444,\"#bd3786\"],[0.5555555555555556,\"#d8576b\"],[0.6666666666666666,\"#ed7953\"],[0.7777777777777778,\"#fb9f3a\"],[0.8888888888888888,\"#fdca26\"],[1.0,\"#f0f921\"]],\"diverging\":[[0,\"#8e0152\"],[0.1,\"#c51b7d\"],[0.2,\"#de77ae\"],[0.3,\"#f1b6da\"],[0.4,\"#fde0ef\"],[0.5,\"#f7f7f7\"],[0.6,\"#e6f5d0\"],[0.7,\"#b8e186\"],[0.8,\"#7fbc41\"],[0.9,\"#4d9221\"],[1,\"#276419\"]]},\"xaxis\":{\"gridcolor\":\"white\",\"linecolor\":\"white\",\"ticks\":\"\",\"title\":{\"standoff\":15},\"zerolinecolor\":\"white\",\"automargin\":true,\"zerolinewidth\":2},\"yaxis\":{\"gridcolor\":\"white\",\"linecolor\":\"white\",\"ticks\":\"\",\"title\":{\"standoff\":15},\"zerolinecolor\":\"white\",\"automargin\":true,\"zerolinewidth\":2},\"scene\":{\"xaxis\":{\"backgroundcolor\":\"#E5ECF6\",\"gridcolor\":\"white\",\"linecolor\":\"white\",\"showbackground\":true,\"ticks\":\"\",\"zerolinecolor\":\"white\",\"gridwidth\":2},\"yaxis\":{\"backgroundcolor\":\"#E5ECF6\",\"gridcolor\":\"white\",\"linecolor\":\"white\",\"showbackground\":true,\"ticks\":\"\",\"zerolinecolor\":\"white\",\"gridwidth\":2},\"zaxis\":{\"backgroundcolor\":\"#E5ECF6\",\"gridcolor\":\"white\",\"linecolor\":\"white\",\"showbackground\":true,\"ticks\":\"\",\"zerolinecolor\":\"white\",\"gridwidth\":2}},\"shapedefaults\":{\"line\":{\"color\":\"#2a3f5f\"}},\"annotationdefaults\":{\"arrowcolor\":\"#2a3f5f\",\"arrowhead\":0,\"arrowwidth\":1},\"geo\":{\"bgcolor\":\"white\",\"landcolor\":\"#E5ECF6\",\"subunitcolor\":\"white\",\"showland\":true,\"showlakes\":true,\"lakecolor\":\"white\"},\"title\":{\"x\":0.05},\"mapbox\":{\"style\":\"light\"}}},\"xaxis\":{\"anchor\":\"y\",\"domain\":[0.0,1.0],\"title\":{\"text\":\"Chapter\"}},\"yaxis\":{\"anchor\":\"x\",\"domain\":[0.0,1.0],\"title\":{\"text\":\"Score\"}},\"legend\":{\"title\":{\"text\":\"variable\"},\"tracegroupgap\":0},\"title\":{\"text\":\"﻿The Project Gutenberg eBook of Little Women; Or, Meg, Jo, Beth, and Amy\\r\"},\"barmode\":\"relative\",\"shapes\":[{\"line\":{\"color\":\"blue\"},\"type\":\"line\",\"x0\":0,\"x1\":1,\"xref\":\"x domain\",\"y0\":0.6872031094835085,\"y1\":0.6872031094835085,\"yref\":\"y\"},{\"line\":{\"color\":\"red\"},\"type\":\"line\",\"x0\":0,\"x1\":1,\"xref\":\"x domain\",\"y0\":0.3127968774231918,\"y1\":0.3127968774231918,\"yref\":\"y\"}]},                        {\"responsive\": true}                    ).then(function(){\n",
              "                            \n",
              "var gd = document.getElementById('7fdd0d8a-d2b3-47b1-a0ac-441310e42945');\n",
              "var x = new MutationObserver(function (mutations, observer) {{\n",
              "        var display = window.getComputedStyle(gd).display;\n",
              "        if (!display || display === 'none') {{\n",
              "            console.log([gd, 'removed!']);\n",
              "            Plotly.purge(gd);\n",
              "            observer.disconnect();\n",
              "        }}\n",
              "}});\n",
              "\n",
              "// Listen for the removal of the full notebook cells\n",
              "var notebookContainer = gd.closest('#notebook-container');\n",
              "if (notebookContainer) {{\n",
              "    x.observe(notebookContainer, {childList: true});\n",
              "}}\n",
              "\n",
              "// Listen for the clearing of the current output cell\n",
              "var outputEl = gd.closest('.output');\n",
              "if (outputEl) {{\n",
              "    x.observe(outputEl, {childList: true});\n",
              "}}\n",
              "\n",
              "                        })                };                            </script>        </div>\n",
              "</body>\n",
              "</html>"
            ]
          },
          "metadata": {}
        }
      ],
      "source": [
        "book_url = 'https://www.gutenberg.org/cache/epub/37106/pg37106.txt'\n",
        "r = requests.get(book_url)\n",
        "r.encoding = 'utf-8'\n",
        "title = r.text.split('\\n')[0]\n",
        "text = r.text.split('***')[2]\n",
        "\n",
        "import pandas as pd\n",
        "ch = [] # create an empty list that we will append to\n",
        "for chapter in text.split('\\r\\n\\r\\n\\r\\n'):\n",
        "    chapter = chapter.replace('\\r','').replace('\\n',' ').replace('\\t','') # remove the newline characters\n",
        "    #chapter = chapter.replace('  ',' ').replace('  ',' ').strip() # remove extra spaces\n",
        "    #chapter = chapter.replace('--','') # remove extra dashes\n",
        "    ch.append(chapter) # append the chapter text to the list\n",
        "book = pd.DataFrame(ch, columns=['Text']) # create a dataframe from the list\n",
        "book = book[book['Text'].apply(lambda x: len(x)>250)] # drop any rows where the text column is shorter than 250 characters\n",
        "book[['Positive', 'Negative']] = pd.DataFrame(book['Text'].apply(classify_text).tolist(), index=book.index) # apply the classify_text function to each row\n",
        "\n",
        "import plotly.express as px\n",
        "fig = px.bar(book, x=book.index, y=['Positive', 'Negative'], title=title).update_layout(xaxis_title='Chapter', yaxis_title='Score')\n",
        "fig.add_hline(y=book['Positive'].mean(), line_color='blue')\n",
        "fig.add_hline(y=book['Negative'].mean(), line_color='red')\n",
        "fig.show()"
      ]
    },
    {
      "cell_type": "markdown",
      "metadata": {
        "id": "lMyG5f-IuqeW"
      },
      "source": [
        "Write a paragraph about how sentiment analysis could be used in other classes or jobs.\n",
        "\n",
        "Jobs:\n",
        "- Marketing and Advertising\n",
        "- Customer Service\n",
        "- Data Science\n",
        "- Psychology and Mental Health\n",
        "- Journalism and Media\n",
        "- Human Resources\n",
        "- Political Science and Policy Making\n",
        "- Education\n",
        "- E-commerce and retail\n",
        "- Content Moderation\n",
        "\n",
        "Classes:\n",
        "- Computer Science (of course).\n",
        "- English Language Arts (you could maybe study how language conveys emotion)\n",
        "- Social Studies (maybe you could study the public opinion of certain events in history)\n",
        "- Business Studies\n",
        "- Psychology\n",
        "- Mathematics and statistics\n",
        "- Media Studies\n",
        "- Economics\n",
        "- Biology (with Healthcare Applications, you could study how sentiment analysis can be used to get patient feedback)"
      ]
    },
    {
      "cell_type": "markdown",
      "metadata": {
        "id": "-5dFUebDuqeW"
      },
      "source": [
        "Sentiment analysis...\n",
        "\n",
        "Is the process of analysing digital text to determine whether the emotional tone of something is percieved as positive, negative or neutral."
      ]
    },
    {
      "cell_type": "markdown",
      "metadata": {
        "id": "wGwwviHyuqeW"
      },
      "source": [
        "## Project 2 - Image Classification\n",
        "\n",
        "Next we will train an AI system to recognize if an image contains a cat or a dog.\n",
        "\n",
        "### Training Data\n",
        "\n",
        "We will use images that are [public domain](https://en.wikipedia.org/wiki/Public_domain) or [Creative Commons](https://creativecommons.org/) because we are allowed to use them without purchasing a license.\n",
        "\n",
        "The more examples you have, the better the AI will be able to discriminate between cats and dogs.\n",
        "\n",
        "1. Create two folders on your computer, one called `cats` and one called `dogs`.\n",
        "1. Find and download at least 10 images of cats from [Pexels](https://www.pexels.com/search/cat/) or [Pixabay](https://pixabay.com/images/search/cat/). Put them in your `cats` folder.\n",
        "1. Find and download at least 10 images of dogs from [Pexels](https://www.pexels.com/search/dog/) or [Pixabay](https://pixabay.com/images/search/dog/). Put them in your `dogs` folder.\n",
        "\n",
        "### Teaching the Machine\n",
        "\n",
        "1. Open [Teachable Machine image training](https://teachablemachine.withgoogle.com/train/image)\n",
        "1. Rename `Class 1` as `cat`, and `Class 2` as `dog` by clicking on the pencil icons.\n",
        "1. Upload your cat images to the `cat` class and your dog images to the `dog` class.\n",
        "1. Click the `Train model` button.\n",
        "1. After the training has finished, click the `Export Model` button, click the `Tensorflow Lite` tab on the right, then click the `Download my model` button. The button will change to `Converting model...` and it will take a few minutes, don't click away from that browser tab.\n",
        "1. Your model should then download automatically as `converted_tflite.zip`.\n",
        "1. Upload your `converted_tflite.zip` file to [the folder that this notebook is in](.) on Callysto Hub or wherever you are running this notebook.\n",
        "    * You can open the folder that this notebook is in by clicking on the logo at the top left of the page and then click on the `data-science-and-artificial-intelligence` folder.\n",
        "    * If you're running in Jupyter Lab the file browser is already on the left.\n",
        "\n",
        "After you have completed all of those steps, run the following cell to set up the image classifier."
      ]
    },
    {
      "cell_type": "code",
      "source": [
        "!pip install tflite-runtime --user"
      ],
      "metadata": {
        "id": "Yu-bFG_ABU1w",
        "outputId": "bb4c3a9d-8fa0-492d-b8bf-ae85bdfb04f2",
        "colab": {
          "base_uri": "https://localhost:8080/"
        }
      },
      "execution_count": 13,
      "outputs": [
        {
          "output_type": "stream",
          "name": "stdout",
          "text": [
            "Requirement already satisfied: tflite-runtime in /root/.local/lib/python3.10/site-packages (2.14.0)\n",
            "Requirement already satisfied: numpy>=1.23.2 in /usr/local/lib/python3.10/dist-packages (from tflite-runtime) (1.26.4)\n"
          ]
        }
      ]
    },
    {
      "cell_type": "code",
      "execution_count": 17,
      "metadata": {
        "colab": {
          "base_uri": "https://localhost:8080/",
          "height": 613
        },
        "id": "d9rZZ98duqeX",
        "outputId": "b31b3e48-aa2d-421d-eddd-155000552dbe"
      },
      "outputs": [
        {
          "output_type": "stream",
          "name": "stdout",
          "text": [
            "Requirement already satisfied: tflite-runtime in /root/.local/lib/python3.10/site-packages (2.14.0)\n",
            "Requirement already satisfied: numpy>=1.23.2 in /usr/local/lib/python3.10/dist-packages (from tflite-runtime) (1.26.4)\n"
          ]
        },
        {
          "output_type": "error",
          "ename": "ModuleNotFoundError",
          "evalue": "No module named 'tflite_runtime'",
          "traceback": [
            "\u001b[0;31m---------------------------------------------------------------------------\u001b[0m",
            "\u001b[0;31mModuleNotFoundError\u001b[0m                       Traceback (most recent call last)",
            "\u001b[0;32m<ipython-input-17-4aeffe48d58e>\u001b[0m in \u001b[0;36m<cell line: 1>\u001b[0;34m()\u001b[0m\n\u001b[1;32m      1\u001b[0m \u001b[0;32mtry\u001b[0m\u001b[0;34m:\u001b[0m\u001b[0;34m\u001b[0m\u001b[0;34m\u001b[0m\u001b[0m\n\u001b[0;32m----> 2\u001b[0;31m     \u001b[0;32mimport\u001b[0m \u001b[0mtflite_runtime\u001b[0m\u001b[0;34m.\u001b[0m\u001b[0minterpreter\u001b[0m \u001b[0;32mas\u001b[0m \u001b[0mtflite\u001b[0m\u001b[0;34m\u001b[0m\u001b[0;34m\u001b[0m\u001b[0m\n\u001b[0m\u001b[1;32m      3\u001b[0m \u001b[0;32mexcept\u001b[0m\u001b[0;34m:\u001b[0m\u001b[0;34m\u001b[0m\u001b[0;34m\u001b[0m\u001b[0m\n",
            "\u001b[0;31mModuleNotFoundError\u001b[0m: No module named 'tflite_runtime'",
            "\nDuring handling of the above exception, another exception occurred:\n",
            "\u001b[0;31mModuleNotFoundError\u001b[0m                       Traceback (most recent call last)",
            "\u001b[0;32m<ipython-input-17-4aeffe48d58e>\u001b[0m in \u001b[0;36m<cell line: 1>\u001b[0;34m()\u001b[0m\n\u001b[1;32m      3\u001b[0m \u001b[0;32mexcept\u001b[0m\u001b[0;34m:\u001b[0m\u001b[0;34m\u001b[0m\u001b[0;34m\u001b[0m\u001b[0m\n\u001b[1;32m      4\u001b[0m     \u001b[0mget_ipython\u001b[0m\u001b[0;34m(\u001b[0m\u001b[0;34m)\u001b[0m\u001b[0;34m.\u001b[0m\u001b[0msystem\u001b[0m\u001b[0;34m(\u001b[0m\u001b[0;34m'pip install tflite-runtime --user'\u001b[0m\u001b[0;34m)\u001b[0m\u001b[0;34m\u001b[0m\u001b[0;34m\u001b[0m\u001b[0m\n\u001b[0;32m----> 5\u001b[0;31m     \u001b[0;32mimport\u001b[0m \u001b[0mtflite_runtime\u001b[0m\u001b[0;34m.\u001b[0m\u001b[0minterpreter\u001b[0m \u001b[0;32mas\u001b[0m \u001b[0mtflite\u001b[0m\u001b[0;34m\u001b[0m\u001b[0;34m\u001b[0m\u001b[0m\n\u001b[0m\u001b[1;32m      6\u001b[0m \u001b[0;32mfrom\u001b[0m \u001b[0mzipfile\u001b[0m \u001b[0;32mimport\u001b[0m \u001b[0mZipFile\u001b[0m\u001b[0;34m\u001b[0m\u001b[0;34m\u001b[0m\u001b[0m\n\u001b[1;32m      7\u001b[0m \u001b[0;32mfrom\u001b[0m \u001b[0mPIL\u001b[0m \u001b[0;32mimport\u001b[0m \u001b[0mImage\u001b[0m\u001b[0;34m,\u001b[0m \u001b[0mImageOps\u001b[0m\u001b[0;34m\u001b[0m\u001b[0;34m\u001b[0m\u001b[0m\n",
            "\u001b[0;31mModuleNotFoundError\u001b[0m: No module named 'tflite_runtime'",
            "",
            "\u001b[0;31m---------------------------------------------------------------------------\u001b[0;32m\nNOTE: If your import is failing due to a missing package, you can\nmanually install dependencies using either !pip or !apt.\n\nTo view examples of installing some common dependencies, click the\n\"Open Examples\" button below.\n\u001b[0;31m---------------------------------------------------------------------------\u001b[0m\n"
          ],
          "errorDetails": {
            "actions": [
              {
                "action": "open_url",
                "actionText": "Open Examples",
                "url": "/notebooks/snippets/importing_libraries.ipynb"
              }
            ]
          }
        }
      ],
      "source": [
        "try:\n",
        "    import tflite_runtime.interpreter as tflite\n",
        "except:\n",
        "    !pip install tflite-runtime --user\n",
        "    import tflite_runtime.interpreter as tflite\n",
        "from zipfile import ZipFile\n",
        "from PIL import Image, ImageOps\n",
        "import numpy as np\n",
        "import requests, urllib.request, os\n",
        "import pandas as pd\n",
        "from IPython.display import clear_output, display\n",
        "clear_output()\n",
        "\n",
        "try:\n",
        "    with ZipFile('converted_tflite.zip', 'r') as zip_object:\n",
        "        zip_object.extractall()\n",
        "except:\n",
        "    print('Unable to find your converted_tflite.zip file, using online version')\n",
        "    r = requests.get('https://raw.githubusercontent.com/callysto/data-files/main/data-science-and-artificial-intelligence/converted_tflite.zip')\n",
        "    with open('converted_tflite.zip', 'wb') as f:\n",
        "        f.write(r.content)\n",
        "    with ZipFile('converted_tflite.zip', 'r') as zip_object:\n",
        "        zip_object.extractall()\n",
        "interpreter = tflite.Interpreter('model_unquant.tflite')\n",
        "interpreter.allocate_tensors()\n",
        "input_details = interpreter.get_input_details()\n",
        "output_details = interpreter.get_output_details()\n",
        "input_shape = input_details[0]['shape']\n",
        "\n",
        "class_names = open('labels.txt', 'r').readlines()\n",
        "os.remove('model_unquant.tflite')\n",
        "os.remove('labels.txt')\n",
        "\n",
        "def classify_image(image_url, show_image=False):\n",
        "    filename = image_url.split('/')[-1]\n",
        "    r = requests.get(image_url, stream=True)\n",
        "    with open(filename, 'wb') as f:\n",
        "        f.write(r.content)\n",
        "    image = Image.open(filename).convert('RGB')\n",
        "    image = image.resize((input_shape[1], input_shape[2]))\n",
        "    if show_image:\n",
        "        display(image)\n",
        "    os.remove(filename)\n",
        "    input_data = (np.expand_dims(np.array(image), axis=0) / 255.0).astype(np.float32)\n",
        "    interpreter.set_tensor(input_details[0]['index'], input_data)\n",
        "    interpreter.invoke()\n",
        "    output_data = interpreter.get_tensor(output_details[0]['index'])\n",
        "    predicted_class = np.argmax(output_data)\n",
        "    predicted_class_name = class_names[predicted_class].strip()[2:]\n",
        "    confidence_level = output_data[0][predicted_class]\n",
        "    return predicted_class_name, confidence_level, image\n",
        "\n",
        "clear_output()\n",
        "print('Model imported and classify_image(image_url) function defined')"
      ]
    },
    {
      "cell_type": "markdown",
      "metadata": {
        "id": "Ol97dFFhuqec"
      },
      "source": [
        "---\n",
        "\n",
        "# Outcomes:\n",
        "\n",
        "The student will:\n",
        "\n",
        "1. analyze and represent the nature, structure and utility of external data files\n",
        "    1. identify and illustrate the general characteristics of external data files including:\n",
        "        1. access methods; e.g., sequential, random, indexed\n",
        "        2. type of data; e.g., text (encoded in a format such as ASCII code), binary (encoded in binary code)\n",
        "        3. text files; e.g., data organization, access methods\n",
        "    2. explain and represent the client/server relationship that exists between a file using application and the operating system with consideration to:\n",
        "        1. how programming environments access secondary storage devices\n",
        "        2. how operating systems handle the actual process of manipulating data in secondary memory\n",
        "        3. how programming environments request file handling services from the operating system\n",
        "        4. the use of a file buffer, data stream and file descriptor table\n",
        "    3. describe and represent the logical structure of text files including:\n",
        "        1. sequential text\n",
        "        2. random-access text files\n",
        "        3. Indexed Sequential Access Method (ISAM) text files\n",
        "    4. describe the main operations associated with text files including:\n",
        "        1. creating a file buffer or stream\n",
        "        2. opening an existing file\n",
        "        3. creating a new file\n",
        "        4. exporting data to a file\n",
        "        5. importing data from a file\n",
        "        6. appending data to a file\n",
        "        7. closing a file\n",
        "        8. comparing two files\n",
        "        9. copying a file\n",
        "        0. merging two files\n",
        "    5. describe and represent the relative advantages of each file type including:\n",
        "        1. access speed\n",
        "        2. storage space requirement\n",
        "        3. difficulty to implement\n",
        "        4. maintainability\n",
        "<br><br>\n",
        "2. create and/or modify algorithms that make effective use of external data files\n",
        "    1. use appropriate general design techniques for a specific programming environment\n",
        "    2. analyze and decompose the problem into appropriate subsections using techniques appropriate for the chosen design approach\n",
        "    3. evaluate subsections and identify any that may require some type of external file capability, based on the nature and amount of the data to be processed and type of processing operations\n",
        "    4. identify and use or construct the appropriate external file structure based on:\n",
        "        1. storage space required\n",
        "        2. the number and speed of required operations\n",
        "        3. programmer efficiency\n",
        "    5. create sequential and random-access files, as required\n",
        "    6. identify and sequence the operations needed to process the data prior to export and/or process the data after import\n",
        "    7. test and modify the algorithm using appropriate “fail-on-paper” techniques\n",
        "<br><br>\n",
        "3. create and/or modify programs based on appropriate algorithms that make effective use of external data files\n",
        "    1. convert algorithms calling for the use of external data files into programs that reflect the algorithm’s design\n",
        "    2. use cohesive subprograms with helper subprograms, if required, to hide and/or protect data, and separate the implementation of the file handling code and attendant data structure and operations from its calling modules\n",
        "    3. use original (user-created) or built-in, environment supported file handling code segments and their attendant operations appropriate to the data being manipulated\n",
        "<br><br>\n",
        "4. compare program operation and outcomes with the intent of the algorithm and modify, as required\n",
        "    1. use appropriate error-trapping mechanisms built into the programming environment, as well as programmer-directed error-trapping techniques, to eliminate logic errors and debug the program\n",
        "    2. compare the congruency between the outcomes of the debugged program and the original intent of the algorithm and modify both, as required\n",
        "<br><br>\n",
        "5. demonstrate basic competencies\n",
        "    1. demonstrate fundamental skills to:\n",
        "        1. communicate\n",
        "        2. manage information\n",
        "        3. use numbers\n",
        "        4. think and solve problems\n",
        "    2. demonstrate personal management skills to:\n",
        "        1. demonstrate positive attitudes and behaviours\n",
        "        2. be responsible\n",
        "        3. be adaptable\n",
        "        4. learn continuously\n",
        "        5. work safely\n",
        "    3. demonstrate teamwork skills to:\n",
        "        1. work with others\n",
        "        2. participate in projects and tasks\n",
        "<br><br>\n",
        "6. identify possible life roles related to the skills and content of this cluster\n",
        "    1. recognize and then analyze the opportunities and barriers in the immediate environment\n",
        "    2. identify potential resources to minimize barriers and maximize opportunities"
      ]
    }
  ],
  "metadata": {
    "kernelspec": {
      "display_name": "Python 3 (ipykernel)",
      "language": "python",
      "name": "python3"
    },
    "language_info": {
      "codemirror_mode": {
        "name": "ipython",
        "version": 3
      },
      "file_extension": ".py",
      "mimetype": "text/x-python",
      "name": "python",
      "nbconvert_exporter": "python",
      "pygments_lexer": "ipython3",
      "version": "3.10.8"
    },
    "colab": {
      "provenance": []
    }
  },
  "nbformat": 4,
  "nbformat_minor": 0
}